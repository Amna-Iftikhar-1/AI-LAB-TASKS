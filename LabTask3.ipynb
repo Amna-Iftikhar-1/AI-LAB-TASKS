{
  "nbformat": 4,
  "nbformat_minor": 0,
  "metadata": {
    "colab": {
      "provenance": []
    },
    "kernelspec": {
      "name": "python3",
      "display_name": "Python 3"
    },
    "language_info": {
      "name": "python"
    }
  },
  "cells": [
    {
      "cell_type": "markdown",
      "source": [
        "# **AMNA IFTIKHAR**"
      ],
      "metadata": {
        "id": "3a5f846PdIiw"
      }
    },
    {
      "cell_type": "markdown",
      "source": [
        "**1. Import deque for efficient queue operations**"
      ],
      "metadata": {
        "id": "4H9vi7NoJnHP"
      }
    },
    {
      "cell_type": "code",
      "source": [
        "from collections import deque\n"
      ],
      "metadata": {
        "id": "r_WlZ36JJu3v"
      },
      "execution_count": 4,
      "outputs": []
    },
    {
      "cell_type": "markdown",
      "source": [
        "**Step 1: Represent the graph**\n",
        "\n"
      ],
      "metadata": {
        "id": "HDKXzFZwJ0CP"
      }
    },
    {
      "cell_type": "code",
      "source": [
        "pakistan_cities = {\n",
        "    'Karachi': ['Hyderabad'],\n",
        "    'Hyderabad': ['Karachi', 'Sukkur'],\n",
        "    'Sukkur': ['Hyderabad', 'Multan', 'Quetta'],\n",
        "    'Multan': ['Sukkur', 'Lahore'],\n",
        "    'Quetta': ['Sukkur'],\n",
        "    'Lahore': ['Multan', 'Islamabad'],\n",
        "    'Islamabad': ['Lahore', 'Peshawar'],\n",
        "    'Peshawar': ['Islamabad']\n",
        "}"
      ],
      "metadata": {
        "id": "DW9tNvQsKEpX"
      },
      "execution_count": 5,
      "outputs": []
    },
    {
      "cell_type": "markdown",
      "source": [
        "**Step 2: BFS and DFS Implementation**"
      ],
      "metadata": {
        "id": "urPJ507pKID_"
      }
    },
    {
      "cell_type": "markdown",
      "source": [
        "**BFS**"
      ],
      "metadata": {
        "id": "ejnKmUTpcwKQ"
      }
    },
    {
      "cell_type": "code",
      "source": [
        "def bfs_shortest_path(graph, start, goal):\n",
        "\n",
        "    queue = deque([[start]])\n",
        "\n",
        "\n",
        "    visited = set()\n",
        "\n",
        "\n",
        "    while queue:\n",
        "\n",
        "        path = queue.popleft()\n",
        "        current_city = path[-1]\n",
        "\n",
        "\n",
        "        if current_city == goal:\n",
        "            return path\n",
        "\n",
        "\n",
        "        if current_city not in visited:\n",
        "            visited.add(current_city)\n",
        "\n",
        "\n",
        "            for neighbor in graph.get(current_city, []):\n",
        "\n",
        "                new_path = list(path)\n",
        "                new_path.append(neighbor)\n",
        "\n",
        "\n",
        "                queue.append(new_path)\n",
        "\n",
        "\n",
        "    return None\n",
        "\n",
        "\n",
        "    #depth first search\n",
        "\n"
      ],
      "metadata": {
        "colab": {
          "base_uri": "https://localhost:8080/"
        },
        "id": "UP6AcDHkQpcP",
        "outputId": "f22b74fa-5334-4781-990e-f6ccefe1eca9"
      },
      "execution_count": 8,
      "outputs": [
        {
          "output_type": "stream",
          "name": "stdout",
          "text": [
            "BFS Shortest Path from Karachi to Peshawar: ['Quetta', 'Sukkur', 'Multan']\n",
            "DFS Path from Karachi to Peshawar: ['Quetta', 'Sukkur', 'Multan']\n"
          ]
        }
      ]
    },
    {
      "cell_type": "markdown",
      "source": [
        "**DFS**"
      ],
      "metadata": {
        "id": "LHGnlgVdc4Fg"
      }
    },
    {
      "cell_type": "code",
      "source": [
        "def dfs_path(graph, start, goal, path=None, visited=None):\n",
        "\n",
        "\n",
        "    \"path starts as an empty list to record the route you take.\"\n",
        "    if path is None:\n",
        "        path = []\n",
        "        \"visited starts as an empty set to remember visited places so you don't repeat them.\"\n",
        "    if visited is None:\n",
        "        visited = set()\n",
        "\n",
        "\n",
        "    path.append(start)\n",
        "\n",
        "    visited.add(start)\n",
        "\n",
        "\n",
        "    if start == goal:\n",
        "        return path\n",
        "\n",
        "\n",
        "    for neighbor in graph.get(start, []):\n",
        "        if neighbor not in visited:\n",
        "\n",
        "            result = dfs_path(graph, neighbor, goal, path.copy(), visited.copy())\n",
        "\n",
        "\n",
        "            if result:\n",
        "                return result\n",
        "\n",
        "\n",
        "    return None\n",
        "\n",
        "\n",
        "start_city = \"Quetta\"\n",
        "goal_city = \"Multan\"\n",
        "\n",
        "\n",
        "\n",
        "bfs_result = bfs_shortest_path(pakistan_cities, start_city, goal_city)\n",
        "print(\"BFS Shortest Path from Karachi to Peshawar:\", bfs_result)\n",
        "\n",
        "dfs_result = dfs_path(pakistan_cities, start_city, goal_city)\n",
        "print(\"DFS Path from Karachi to Peshawar:\", dfs_result)\n"
      ],
      "metadata": {
        "id": "AQ0lpdCFc8KY"
      },
      "execution_count": null,
      "outputs": []
    }
  ]
}