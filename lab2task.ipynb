{
  "nbformat": 4,
  "nbformat_minor": 0,
  "metadata": {
    "colab": {
      "provenance": []
    },
    "kernelspec": {
      "name": "python3",
      "display_name": "Python 3"
    },
    "language_info": {
      "name": "python"
    }
  },
  "cells": [
    {
      "cell_type": "code",
      "execution_count": null,
      "metadata": {
        "id": "d4yLDe1mCwwj"
      },
      "outputs": [],
      "source": []
    },
    {
      "cell_type": "markdown",
      "source": [
        "\n",
        "\n",
        "\n",
        "1.   Matplotlib\n",
        "\n",
        "\n",
        "\n",
        "\n",
        "\n"
      ],
      "metadata": {
        "id": "2ndrOQhzDIiu"
      }
    },
    {
      "cell_type": "markdown",
      "source": [
        "\n",
        "\n",
        "2.  Numpy\n",
        "\n"
      ],
      "metadata": {
        "id": "OoTN5KGtDxFl"
      }
    },
    {
      "cell_type": "markdown",
      "source": [
        "\n",
        "\n",
        "3.   List\n",
        "\n",
        "\n",
        "\n",
        "\n"
      ],
      "metadata": {
        "id": "WFqo-WSPD2v0"
      }
    },
    {
      "cell_type": "code",
      "source": [
        "num=[1,2,3,45,6,7,8,9,10]\n",
        "print(num)"
      ],
      "metadata": {
        "colab": {
          "base_uri": "https://localhost:8080/"
        },
        "id": "Pf9G7zI2KEzN",
        "outputId": "1ed53d01-e8f1-4f50-ebdf-954aab367194"
      },
      "execution_count": 2,
      "outputs": [
        {
          "output_type": "stream",
          "name": "stdout",
          "text": [
            "[1, 2, 3, 45, 6, 7, 8, 9, 10]\n"
          ]
        }
      ]
    },
    {
      "cell_type": "code",
      "source": [
        "num=[1,2,3,45,6,7,8,9,10]\n",
        "\n",
        "print('sum:', sum(num))"
      ],
      "metadata": {
        "colab": {
          "base_uri": "https://localhost:8080/"
        },
        "id": "Kuem9TTCJJVN",
        "outputId": "96cc1d3d-517e-45f7-89a6-a04ce4033009"
      },
      "execution_count": 3,
      "outputs": [
        {
          "output_type": "stream",
          "name": "stdout",
          "text": [
            "sum: 91\n"
          ]
        }
      ]
    },
    {
      "cell_type": "code",
      "source": [
        "num=[1,2,3,45,6,7,8,9,10]\n",
        "print('MIN:', min(num))\n"
      ],
      "metadata": {
        "colab": {
          "base_uri": "https://localhost:8080/"
        },
        "id": "QvfPPIFtKTg8",
        "outputId": "fd9c07ba-b748-4ecc-db59-40e626e3a73a"
      },
      "execution_count": 5,
      "outputs": [
        {
          "output_type": "stream",
          "name": "stdout",
          "text": [
            "MIN: 1\n"
          ]
        }
      ]
    },
    {
      "cell_type": "code",
      "source": [
        "num=[1,2,3,45,6,7,8,9,10]\n",
        "print('MAX:', max(num))\n"
      ],
      "metadata": {
        "colab": {
          "base_uri": "https://localhost:8080/"
        },
        "id": "lpYezbF0K2MN",
        "outputId": "121038d7-b23f-4272-bb8d-6f5f497f5b85"
      },
      "execution_count": 6,
      "outputs": [
        {
          "output_type": "stream",
          "name": "stdout",
          "text": [
            "MAX: 45\n"
          ]
        }
      ]
    },
    {
      "cell_type": "code",
      "source": [
        "num=[1,2,3,45,6,7,8,9,10]\n",
        "num.append(66)\n",
        "num.remove(1)\n",
        "print('UPDATED LIST: ', num)"
      ],
      "metadata": {
        "colab": {
          "base_uri": "https://localhost:8080/"
        },
        "id": "VV4kCmg2LfOk",
        "outputId": "c4e49ba6-3d82-421f-9026-1a60264ef380"
      },
      "execution_count": 7,
      "outputs": [
        {
          "output_type": "stream",
          "name": "stdout",
          "text": [
            "UPDATED LIST:  [2, 3, 45, 6, 7, 8, 9, 10, 66]\n"
          ]
        }
      ]
    },
    {
      "cell_type": "code",
      "source": [
        "num=[1,2,3,45,6,7,8,9,10]\n",
        "print('ASCENDING: ', sorted(num))\n",
        "print('DESCENDING: ', sorted(num, reverse=True))"
      ],
      "metadata": {
        "colab": {
          "base_uri": "https://localhost:8080/"
        },
        "id": "uTWYeu1IL-2_",
        "outputId": "b60dd481-099d-4455-9ce0-80ef4c50571f"
      },
      "execution_count": 11,
      "outputs": [
        {
          "output_type": "stream",
          "name": "stdout",
          "text": [
            "ASCENDING:  [1, 2, 3, 6, 7, 8, 9, 10, 45]\n",
            "DESCENDING:  [45, 10, 9, 8, 7, 6, 3, 2, 1]\n"
          ]
        }
      ]
    },
    {
      "cell_type": "markdown",
      "source": [
        "\n",
        "\n",
        "4.   Tuple\n",
        "\n"
      ],
      "metadata": {
        "id": "LWQx3pJjD7eU"
      }
    },
    {
      "cell_type": "code",
      "source": [
        "name= ('ali', 'ahmed', 'sana', 'zara', 'soha')\n",
        "print(name)\n",
        "\n",
        "print(\"Second element: \", name[1])\n",
        "print(\"Last element: \", name[-1])"
      ],
      "metadata": {
        "colab": {
          "base_uri": "https://localhost:8080/"
        },
        "id": "vt1WCyvlNFdk",
        "outputId": "bb210d7a-ee04-4b11-8c68-abbd0736f135"
      },
      "execution_count": 13,
      "outputs": [
        {
          "output_type": "stream",
          "name": "stdout",
          "text": [
            "('ali', 'ahmed', 'sana', 'zara', 'soha')\n",
            "Second element:  ahmed\n",
            "Last element:  soha\n"
          ]
        }
      ]
    },
    {
      "cell_type": "code",
      "source": [
        "name= ('ali', 'ahmed', 'sana', 'zara', 'soha')\n",
        "name[1]='akhi'"
      ],
      "metadata": {
        "colab": {
          "base_uri": "https://localhost:8080/",
          "height": 159
        },
        "id": "iksVy1LfOCfd",
        "outputId": "fcab0d2b-f4a6-4400-8037-828290ccdfc4"
      },
      "execution_count": 14,
      "outputs": [
        {
          "output_type": "error",
          "ename": "TypeError",
          "evalue": "'tuple' object does not support item assignment",
          "traceback": [
            "\u001b[0;31m---------------------------------------------------------------------------\u001b[0m",
            "\u001b[0;31mTypeError\u001b[0m                                 Traceback (most recent call last)",
            "\u001b[0;32m/tmp/ipython-input-1826839403.py\u001b[0m in \u001b[0;36m<cell line: 0>\u001b[0;34m()\u001b[0m\n\u001b[1;32m      1\u001b[0m \u001b[0mname\u001b[0m\u001b[0;34m=\u001b[0m \u001b[0;34m(\u001b[0m\u001b[0;34m'ali'\u001b[0m\u001b[0;34m,\u001b[0m \u001b[0;34m'ahmed'\u001b[0m\u001b[0;34m,\u001b[0m \u001b[0;34m'sana'\u001b[0m\u001b[0;34m,\u001b[0m \u001b[0;34m'zara'\u001b[0m\u001b[0;34m,\u001b[0m \u001b[0;34m'soha'\u001b[0m\u001b[0;34m)\u001b[0m\u001b[0;34m\u001b[0m\u001b[0;34m\u001b[0m\u001b[0m\n\u001b[0;32m----> 2\u001b[0;31m \u001b[0mname\u001b[0m\u001b[0;34m[\u001b[0m\u001b[0;36m1\u001b[0m\u001b[0;34m]\u001b[0m\u001b[0;34m=\u001b[0m\u001b[0;34m'akh'\u001b[0m\u001b[0;34m\u001b[0m\u001b[0;34m\u001b[0m\u001b[0m\n\u001b[0m",
            "\u001b[0;31mTypeError\u001b[0m: 'tuple' object does not support item assignment"
          ]
        }
      ]
    },
    {
      "cell_type": "code",
      "source": [
        "name= ('ali', 'ahmed', 'sana', 'zara', 'soha')\n",
        "name_list= list(name)\n",
        "name_list[1]= 'akhi'\n",
        "print('Modified List: ', name_list)"
      ],
      "metadata": {
        "colab": {
          "base_uri": "https://localhost:8080/"
        },
        "id": "p2FO0LzNPM6c",
        "outputId": "8cde6c59-d231-43c2-ea96-328adb643b8c"
      },
      "execution_count": 15,
      "outputs": [
        {
          "output_type": "stream",
          "name": "stdout",
          "text": [
            "Modified List:  ['ali', 'akhi', 'sana', 'zara', 'soha']\n"
          ]
        }
      ]
    },
    {
      "cell_type": "markdown",
      "source": [
        "\n",
        "\n",
        "5.   Set\n",
        "\n"
      ],
      "metadata": {
        "id": "fsh4YImHEA2D"
      }
    },
    {
      "cell_type": "code",
      "source": [
        "name1={'ali', 'ahmed', 'zara'}\n",
        "name2={'ali', 'ahmed', 'zara','ali', 'zain', 'zoha'}\n",
        "\n",
        "print('UNION: ', name1.union(name2))\n",
        "print('Intersaction:', name1.intersection(name2))\n",
        "print('Difference: ', name2.difference(name1))\n"
      ],
      "metadata": {
        "colab": {
          "base_uri": "https://localhost:8080/"
        },
        "id": "IvU_FZyhT9i9",
        "outputId": "738193d9-698a-4f09-f516-231b8c6e6438"
      },
      "execution_count": 19,
      "outputs": [
        {
          "output_type": "stream",
          "name": "stdout",
          "text": [
            "UNION:  {'zoha', 'ali', 'zara', 'zain', 'ahmed'}\n",
            "Intersaction: {'ahmed', 'ali', 'zara'}\n",
            "Difference:  {'zoha', 'zain'}\n"
          ]
        }
      ]
    },
    {
      "cell_type": "code",
      "source": [
        "name1={'ali', 'ahmed', 'zara'}\n",
        "name2={'ali', 'ahmed', 'zara','ali', 'zain', 'zoha'}\n",
        "\n",
        "name1.add('zain')\n",
        "name2.remove('ali')\n",
        "print('MODIFIED SET 1:', name1)\n",
        "print('MODIFIED SET 2:', name2)"
      ],
      "metadata": {
        "colab": {
          "base_uri": "https://localhost:8080/"
        },
        "id": "W0I2sQkfViwE",
        "outputId": "40deaf5c-fcf5-4515-c5d8-26446bd4dd22"
      },
      "execution_count": 20,
      "outputs": [
        {
          "output_type": "stream",
          "name": "stdout",
          "text": [
            "MODIFIED SET 1: {'zara', 'ali', 'ahmed', 'zain'}\n",
            "MODIFIED SET 2: {'zoha', 'ahmed', 'zara', 'zain'}\n"
          ]
        }
      ]
    },
    {
      "cell_type": "markdown",
      "source": [
        "\n",
        "\n",
        "6.   Dictionary\n",
        "\n"
      ],
      "metadata": {
        "id": "dgDjIcJjEHe7"
      }
    },
    {
      "cell_type": "code",
      "source": [
        "student_marks = {\n",
        "    \" ali\": 85,\n",
        "    \"behram\": 92,\n",
        "    \"hala\": 78,\n",
        "    \"zoha\": 90,\n",
        "    \"zara\": 88\n",
        "}\n",
        "\n",
        "print('KEYS: ', student_marks.keys())\n",
        "print('VALUES: ', student_marks.values())\n",
        "\n"
      ],
      "metadata": {
        "colab": {
          "base_uri": "https://localhost:8080/"
        },
        "id": "12867MtXW-Ss",
        "outputId": "ebe87f2e-5038-4d35-a49b-5ab90ccaec90"
      },
      "execution_count": 25,
      "outputs": [
        {
          "output_type": "stream",
          "name": "stdout",
          "text": [
            "KEYS:  dict_keys([' ali', 'behram', 'hala', 'zoha', 'zara'])\n",
            "VALUES:  dict_values([85, 92, 78, 90, 88])\n"
          ]
        }
      ]
    },
    {
      "cell_type": "code",
      "source": [
        "student_marks = {\n",
        "    \" ali\": 85,\n",
        "    \"behram\": 92,\n",
        "    \"hala\": 78,\n",
        "    \"zoha\": 90,\n",
        "    \"zara\": 88\n",
        "}\n",
        "\n",
        "student_marks['hala']= 44\n",
        "print('MODIFIED DICTIONARY: ', student_marks)"
      ],
      "metadata": {
        "colab": {
          "base_uri": "https://localhost:8080/"
        },
        "id": "xjSCqTzuX0OM",
        "outputId": "1b831a30-9366-4c60-c2da-7628bbcc68ea"
      },
      "execution_count": 24,
      "outputs": [
        {
          "output_type": "stream",
          "name": "stdout",
          "text": [
            "MODIFIED DICTIONARY:  {' ali': 85, 'behram': 92, 'hala': 44, 'zoha': 90, 'zara': 88}\n"
          ]
        }
      ]
    },
    {
      "cell_type": "code",
      "source": [
        "student_marks = {\n",
        "    \"ali\": 85,\n",
        "    \"ali\": 92,\n",
        "    \"ali\": 78,\n",
        "    \"ali\": 90,\n",
        "    \"ali\": 88\n",
        "}\n",
        "\n",
        "print(student_marks)"
      ],
      "metadata": {
        "colab": {
          "base_uri": "https://localhost:8080/"
        },
        "id": "0SUhOih8X8FM",
        "outputId": "d795faa8-cd6b-47ad-a255-bc7b5f5c080d"
      },
      "execution_count": 27,
      "outputs": [
        {
          "output_type": "stream",
          "name": "stdout",
          "text": [
            "{'ali': 88}\n"
          ]
        }
      ]
    }
  ]
}